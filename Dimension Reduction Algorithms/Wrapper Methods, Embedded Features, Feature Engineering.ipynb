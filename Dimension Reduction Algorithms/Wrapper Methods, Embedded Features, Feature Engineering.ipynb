{
 "cells": [
  {
   "cell_type": "markdown",
   "metadata": {
    "id": "E48jFO-0gDN4"
   },
   "source": [
    "# Intelligent Systems - Part 2\n",
    "# Wrapper Methods and Feature Engineering\n",
    "\n",
    "### Kasra Borazjani - 810196662\n",
    "### Parmida Valiahdi - 810196586"
   ]
  },
  {
   "cell_type": "markdown",
   "metadata": {
    "id": "RoGs-llluLXp"
   },
   "source": [
    "# Phase 0: Downloading Data"
   ]
  },
  {
   "cell_type": "markdown",
   "metadata": {
    "id": "YpRElGuhWBwV"
   },
   "source": [
    "Mounting google drive"
   ]
  },
  {
   "cell_type": "code",
   "execution_count": null,
   "metadata": {
    "id": "jU5SoL8Hm8Os"
   },
   "outputs": [],
   "source": [
    "from google.colab import drive\n",
    "drive.mount('/content/gdrive')\n",
    "%cd gdrive/My Drive/IS - Final Project"
   ]
  },
  {
   "cell_type": "markdown",
   "metadata": {
    "id": "83RVGCwJWEGe"
   },
   "source": [
    "Cloning GitHub repository"
   ]
  },
  {
   "cell_type": "code",
   "execution_count": null,
   "metadata": {
    "id": "D8IhnK7kr_Qt"
   },
   "outputs": [],
   "source": [
    "! git clone https://github.com/sowmyagowri/Drug-Activity-Prediction-Dorothea-Dataset.git\n",
    "! git pull"
   ]
  },
  {
   "cell_type": "markdown",
   "metadata": {
    "id": "9KT1HrlAuWSr"
   },
   "source": [
    "# Phase 1: Pre-Processing"
   ]
  },
  {
   "cell_type": "markdown",
   "metadata": {
    "id": "q159ZYebWJrw"
   },
   "source": [
    "Importing the libraries needed"
   ]
  },
  {
   "cell_type": "code",
   "execution_count": 2,
   "metadata": {
    "id": "7RIqt9FY1dyH"
   },
   "outputs": [],
   "source": [
    "import numpy as np\n",
    "import pandas as pd\n",
    "from sklearn.svm import SVC\n",
    "from sklearn.preprocessing import StandardScaler\n",
    "from sklearn.metrics import confusion_matrix, ConfusionMatrixDisplay\n",
    "import statsmodels.api as sm"
   ]
  },
  {
   "cell_type": "markdown",
   "metadata": {
    "id": "OQuTERtHWL80"
   },
   "source": [
    "Train and test data path"
   ]
  },
  {
   "cell_type": "code",
   "execution_count": 3,
   "metadata": {
    "id": "CHpWySVdzfhj"
   },
   "outputs": [],
   "source": [
    "traindatapath = 'Drug-Activity-Prediction-Dorothea-Dataset/train.dat'\n",
    "testdatapath = 'Drug-Activity-Prediction-Dorothea-Dataset/test.dat'"
   ]
  },
  {
   "cell_type": "markdown",
   "metadata": {
    "id": "L2BiSLXkWSsp"
   },
   "source": [
    "Load and read the data:"
   ]
  },
  {
   "cell_type": "code",
   "execution_count": 4,
   "metadata": {
    "id": "Q4jKNgvLBxjw"
   },
   "outputs": [],
   "source": [
    "def loadData2(trainingFile, testingFile):\n",
    "    \n",
    "    def convertDataframe(inputFile):\n",
    "        data = pd.DataFrame(columns=range(100000))\n",
    "        \n",
    "        for i in range(len(inputFile)):\n",
    "            record = np.fromstring(inputFile[i], dtype=int, sep=' ')\n",
    "            record_bool = [0 for j in range(100000)]\n",
    "            for col in record:\n",
    "                record_bool[col-1] = 1\n",
    "            \n",
    "            data.loc[i] = record_bool\n",
    "            \n",
    "        return data\n",
    "    \n",
    "    with open(trainingFile, \"r\") as fr1:\n",
    "        trainFile = fr1.readlines()\n",
    "    \n",
    "    #Split each line in the two files into label and data  \n",
    "    train_data_list = []\n",
    "    train_labels_list = []\n",
    "    \n",
    "    for inputData in trainFile:\n",
    "        train_labels_list.append(inputData[0])\n",
    "        \n",
    "        #Remove the activity label (0/1) and new line character from each record\n",
    "        inputData = inputData.replace(\"0\\t\", \"\")\n",
    "        inputData = inputData.replace(\"1\\t\", \"\")\n",
    "        inputData = inputData.replace(\"\\n\", \"\")\n",
    "        train_data_list.append(inputData)\n",
    "    \n",
    "    train_labels = np.asarray(train_labels_list)\n",
    "    train_data = convertDataframe(train_data_list)\n",
    "        \n",
    "    with open(testingFile, \"r\") as fr2:\n",
    "        testFile = fr2.readlines()\n",
    "    \n",
    "    test_data = convertDataframe(testFile)\n",
    "            \n",
    "    return train_data, test_data, train_labels"
   ]
  },
  {
   "cell_type": "code",
   "execution_count": 5,
   "metadata": {
    "id": "0BU2D4fXfoql"
   },
   "outputs": [],
   "source": [
    "new_train_data, new_test_data, new_train_labels = loadData2(traindatapath, testdatapath)\n",
    "    "
   ]
  },
  {
   "cell_type": "markdown",
   "metadata": {
    "id": "GDggdwz4Wbiu"
   },
   "source": [
    "Downsample the majority class:"
   ]
  },
  {
   "cell_type": "code",
   "execution_count": null,
   "metadata": {
    "id": "GyWahAVvQnpM"
   },
   "outputs": [],
   "source": [
    "newer_train_data = pd.DataFrame()\n",
    "\n",
    "flag = 0\n",
    "for i in range(len(new_train_data[0])):\n",
    "  print(\"i equals: {}\".format(i))\n",
    "  if new_train_labels[i] == '0':\n",
    "    if flag==78:\n",
    "      continue\n",
    "    flag += 1\n",
    "\n",
    "  newer_train_data.append(new_train_data.iloc[i])\n",
    "\n"
   ]
  },
  {
   "cell_type": "markdown",
   "metadata": {
    "id": "uV6cSO8uWjmJ"
   },
   "source": [
    "Save the loaded data into files in order to prevent reloading:"
   ]
  },
  {
   "cell_type": "code",
   "execution_count": 35,
   "metadata": {
    "id": "ycLXuZ2nhO7i"
   },
   "outputs": [],
   "source": [
    "new_train_data.to_csv(\"new_train_data.csv\", sep=\",\",header=None)\n",
    "new_train_labels.tofile(\"new_train_labels.csv\", sep=\",\")\n",
    "new_test_data.to_csv(\"new_test_data.csv\", sep=\",\", header=None)"
   ]
  },
  {
   "cell_type": "markdown",
   "metadata": {
    "id": "aMtWGs8yWqjA"
   },
   "source": [
    "Cast \"int\" type to train_labels"
   ]
  },
  {
   "cell_type": "code",
   "execution_count": 6,
   "metadata": {
    "id": "pl_09xvRLDTt"
   },
   "outputs": [],
   "source": [
    "for i in range(len(new_train_labels)):\n",
    "    new_train_labels[i] = int(new_train_labels[i])"
   ]
  },
  {
   "cell_type": "markdown",
   "metadata": {
    "id": "NCXiyaMAWvvI"
   },
   "source": [
    "load test labels:"
   ]
  },
  {
   "cell_type": "code",
   "execution_count": 7,
   "metadata": {
    "id": "zvFxSrp6T-td"
   },
   "outputs": [],
   "source": [
    "testlabelpath = 'Drug-Activity-Prediction-Dorothea-Dataset/valid_labels.dat'\n",
    "test_labels = pd.read_csv(testlabelpath, header=None)"
   ]
  },
  {
   "cell_type": "markdown",
   "metadata": {
    "id": "3cLV1KhMujlc"
   },
   "source": [
    "# Phase 2: Testing the SVM"
   ]
  },
  {
   "cell_type": "markdown",
   "metadata": {
    "id": "GGznYXrdWzM-"
   },
   "source": [
    "Define the SVM using standard scaler and SVC module in sklearn.svm"
   ]
  },
  {
   "cell_type": "code",
   "execution_count": 126,
   "metadata": {
    "id": "HrEgrMAPtWjm"
   },
   "outputs": [],
   "source": [
    "\n",
    "\n",
    "scaler = StandardScaler()\n",
    "X_train = scaler.fit_transform(new_train_data)\n",
    "X_test = scaler.transform(new_test_data)\n",
    "y_train = new_train_labels.copy()\n",
    "\n",
    "clf = SVC(kernel='linear', gamma=0.5)\n",
    "clf.fit(X_train, y_train)\n",
    "y_pred = clf.predict(X_test)"
   ]
  },
  {
   "cell_type": "markdown",
   "metadata": {
    "id": "tS47tYFwW7mS"
   },
   "source": [
    "Measure accuracy for the trained SVM:"
   ]
  },
  {
   "cell_type": "code",
   "execution_count": 127,
   "metadata": {
    "colab": {
     "base_uri": "https://localhost:8080/"
    },
    "id": "miXKcR_SOPCr",
    "outputId": "f71cd5c7-f9be-4190-9735-6b8fc79c7580"
   },
   "outputs": [
    {
     "name": "stdout",
     "output_type": "stream",
     "text": [
      "90.28571428571428\n"
     ]
    }
   ],
   "source": [
    "\n",
    "\n",
    "accuracy = np.count_nonzero((int(y_pred[0])==np.array(test_labels[0])).astype('uint8'))/ test_labels.shape[0] * 100\n",
    "print(accuracy)"
   ]
  },
  {
   "cell_type": "markdown",
   "metadata": {
    "id": "xvfnagx7XACj"
   },
   "source": [
    "Get the predicted output readable for the confusion_matrix() function:"
   ]
  },
  {
   "cell_type": "code",
   "execution_count": 128,
   "metadata": {
    "id": "XYvj0Bv2Ru9f"
   },
   "outputs": [],
   "source": [
    "y = [int(y_pred[i]) for i in range(350)]"
   ]
  },
  {
   "cell_type": "markdown",
   "metadata": {
    "id": "lB_P_DKBXJPk"
   },
   "source": [
    "Plotting the confusion matrix:"
   ]
  },
  {
   "cell_type": "code",
   "execution_count": 129,
   "metadata": {
    "colab": {
     "base_uri": "https://localhost:8080/",
     "height": 296
    },
    "id": "4-DLKM-GQ4cS",
    "outputId": "45e2e9fd-3c67-4766-d5d5-df94403ec117"
   },
   "outputs": [
    {
     "data": {
      "text/plain": [
       "<sklearn.metrics._plot.confusion_matrix.ConfusionMatrixDisplay at 0x7fccf2861128>"
      ]
     },
     "execution_count": 129,
     "metadata": {
      "tags": []
     },
     "output_type": "execute_result"
    },
    {
     "data": {
      "image/png": "[encoded data removed]",
      "text/plain": [
       "<Figure size 432x288 with 2 Axes>"
      ]
     },
     "metadata": {
      "needs_background": "light",
      "tags": []
     },
     "output_type": "display_data"
    }
   ],
   "source": [
    "\n",
    "disp = ConfusionMatrixDisplay(confusion_matrix(test_labels, y, labels = [0,1], sample_weight=None, normalize = None), display_labels = [0,1])\n",
    "disp.plot()"
   ]
  },
  {
   "cell_type": "markdown",
   "metadata": {
    "id": "xJYA-e07XMTk"
   },
   "source": [
    "## Phase 3: Step-Forward Selection:"
   ]
  },
  {
   "cell_type": "markdown",
   "metadata": {
    "id": "mND43bq3XSRb"
   },
   "source": [
    "In this procedure, we train an SVM for each feature in our dataset in order to measure the accuracy of their prediction. The one with the highest accuracy will be added to the list of our most favourable features in order to eliminate the ones that do not make a noticable contribution to increasing the accuracy of our model. A variable \"base_value\" is selected to control how far this loop goes. Whenever there is no increase in the accuracy of our model, the while() loop will be broken and the procedure will finish."
   ]
  },
  {
   "cell_type": "code",
   "execution_count": 115,
   "metadata": {
    "id": "wg_91qrpSD6z"
   },
   "outputs": [],
   "source": [
    "def sfs(train_data, train_labels, test_data, test_labels):\n",
    "  \n",
    "  \n",
    "  base_value = 0\n",
    "  num_of_cols = len(train_data.columns)\n",
    "  best_attribs = pd.DataFrame()\n",
    "  test_data_test = pd.DataFrame()\n",
    "  locs = [i for i in range(len(train_data.columns))]\n",
    "  iteration = 1\n",
    "  while(num_of_cols > 0):\n",
    "      \n",
    "      best_performance = 0\n",
    "      best_attrib_index = 0\n",
    "      for i in locs:\n",
    "          temp_best_attribs = best_attribs.copy()\n",
    "          temp_best_attribs.insert(value=train_data[i], loc=0, column=i)\n",
    "          \n",
    "          clf = SVC(kernel='linear', gamma=0.5)\n",
    "          clf.fit(temp_best_attribs, train_labels)\n",
    "          test_data_test_temp = test_data_test.copy()\n",
    "          test_data_test_temp.insert(value=test_data[i], loc=0, column=i)\n",
    "          y_pred = clf.predict(test_data_test_temp)\n",
    "          accuracy = np.count_nonzero((int(y_pred[0])==np.array(test_labels[0])).astype('uint8'))/ test_labels.shape[0] * 100\n",
    "          \n",
    "          if (accuracy > best_performance):\n",
    "            best_performance = accuracy\n",
    "            best_attrib_index = locs.index(i)\n",
    "      \n",
    "      if (best_performance > base_value):\n",
    "        base_value = best_performance\n",
    "        best_attribs.insert(value=train_data[locs[best_attrib_index]], loc=0, column=locs[best_attrib_index])\n",
    "        print(\"Iteration #{} complete. \\n column {} was inserted \\n\".format(iteration, best_attrib_index))\n",
    "        num_of_cols -= 1\n",
    "        test_data_test.insert(value=test_data[locs[best_attrib_index]], loc=0, column=locs[best_attrib_index])\n",
    "        locs.pop(best_attrib_index)\n",
    "        iteration += 1\n",
    "\n",
    "      else:\n",
    "        print(\"Iteration #{} complete. No more columns to add. \\n\".format(iteration))\n",
    "        break\n",
    "      \n",
    "  return best_attribs\n"
   ]
  },
  {
   "cell_type": "markdown",
   "metadata": {
    "id": "BDshCmGFYUG_"
   },
   "source": [
    "The dataset has 100 thousand features, for which the training would take a fairly long time to complete. Therefore, we have chosen the first 100 for the sake of demonstration."
   ]
  },
  {
   "cell_type": "code",
   "execution_count": 120,
   "metadata": {
    "colab": {
     "base_uri": "https://localhost:8080/",
     "height": 432
    },
    "id": "2yBECipHKAMV",
    "outputId": "e755e827-d1f6-46f3-8029-54ce66bcda23"
   },
   "outputs": [
    {
     "name": "stdout",
     "output_type": "stream",
     "text": [
      "Iteration #1 complete. \n",
      " column 0 was inserted \n",
      "\n",
      "Iteration #2 complete. No more columns to add.\n",
      "the final columns are: 0 \n",
      "\n",
      "accuracy is 90.28571428571428 percent! \n",
      "\n"
     ]
    },
    {
     "data": {
      "text/plain": [
       "<sklearn.metrics._plot.confusion_matrix.ConfusionMatrixDisplay at 0x7fccfcdd1518>"
      ]
     },
     "execution_count": 120,
     "metadata": {
      "tags": []
     },
     "output_type": "execute_result"
    },
    {
     "data": {
      "image/png": "[encoded data removed]",
      "text/plain": [
       "<Figure size 432x288 with 2 Axes>"
      ]
     },
     "metadata": {
      "needs_background": "light",
      "tags": []
     },
     "output_type": "display_data"
    }
   ],
   "source": [
    "tr_data_sfs = new_train_data.copy()\n",
    "tr_labels_sfs = new_train_labels.copy()\n",
    "tst_data_sfs = new_test_data.copy()\n",
    "tst_labels_sfs = test_labels.copy()\n",
    "\n",
    "tr_data_sfs_test = tr_data_sfs[range(100)]\n",
    "tst_data_sfs_test = tst_data_sfs[range(100)]\n",
    "\n",
    "\n",
    "best_attribs_sfs = sfs(tr_data_sfs_test, tr_labels_sfs, tst_data_sfs_test, tst_labels_sfs)\n",
    "\n",
    "print(\"the final columns are: {} \\n\".format(best_attribs_sfs.columns[0]))\n",
    "\n",
    "train_data_final = tr_data_sfs_test[best_attribs_sfs.columns]\n",
    "\n",
    "newsvm = SVC(kernel='linear', gamma=0.5)\n",
    "newsvm.fit(train_data_final, tr_labels_sfs)\n",
    "test_data_final = tst_data_sfs_test[best_attribs_sfs.columns]\n",
    "y_pred = newsvm.predict(test_data_final)\n",
    "\n",
    "\n",
    "accuracy = np.count_nonzero((int(y_pred[0])==np.array(test_labels[0])).astype('uint8'))/ test_labels.shape[0] * 100\n",
    "print(\"accuracy is {} percent! \\n\".format(accuracy))\n",
    "\n",
    "y = [int(y_pred[i]) for i in range(350)]\n",
    "\n",
    "disp = ConfusionMatrixDisplay(confusion_matrix(test_labels, y, labels = [0,1], sample_weight=None, normalize = None), display_labels = [0,1])\n",
    "disp.plot()"
   ]
  },
  {
   "cell_type": "markdown",
   "metadata": {
    "id": "jWykD7g3YjY4"
   },
   "source": [
    "## Phase 4: Backward Elimination Selection"
   ]
  },
  {
   "cell_type": "markdown",
   "metadata": {
    "id": "05MWMUbiYnsc"
   },
   "source": [
    "In this part, we will undergo the somewhat-reverse procedure with respect to the Step-Forward Selection method. Here, we will first eliminate each feature and train the SVM with the rest of them, in order to find the elimination that serves our purpose (increasing accuracy) best. We will then continue this loop until we reach the point where eliminating features would result in worse or no change at all."
   ]
  },
  {
   "cell_type": "code",
   "execution_count": 62,
   "metadata": {
    "id": "AFkC-F8YIGi0"
   },
   "outputs": [],
   "source": [
    "def bes(train_data, train_labels, test_data, test_labels):\n",
    "\n",
    "  # Initializing the variables:\n",
    "\n",
    "  num_of_cols = len(train_data.columns)\n",
    "  best_attribs = train_data.copy()\n",
    "  test_data_test = test_data.copy()\n",
    "  locs = [i for i in range(len(train_data.columns))]\n",
    "\n",
    "\n",
    "  # The elimination loop begins here:\n",
    "  while(len(test_data.columns)):\n",
    "\n",
    "      #Initializing the best performance (corresponding to the worst column which is going to be eliminated):\n",
    "      worst_performance = 0\n",
    "      worst_attrib_index = 0\n",
    "\n",
    "      # Checking each feature\n",
    "      for i in locs:\n",
    "          temp_best_attribs = best_attribs.copy()\n",
    "          temp_best_attribs.drop([i], axis=1)\n",
    "          \n",
    "          #training the SVM to find the accuracy\n",
    "          clf = SVC(kernel='linear', gamma=0.5)\n",
    "          clf.fit(temp_best_attribs, train_labels)\n",
    "          test_data_test_temp = test_data_test.copy()\n",
    "          test_data_test_temp.drop([i], axis=1)\n",
    "          y_pred = clf.predict(test_data_test_temp)\n",
    "          accuracy = np.count_nonzero((int(y_pred[0])==np.array(test_labels[0])).astype('uint8'))/ test_labels.shape[0] * 100\n",
    "          \n",
    "          # If the accuracy is higher than our previous models:\n",
    "          if (accuracy > worst_performance):\n",
    "            worst_performance = accuracy\n",
    "            worst_attrib_index = locs.index(i)\n",
    "      \n",
    "      # When the worst attribute has been selected, we will delete it from the feature list:\n",
    "      if (len(best_attribs.columns)>= 40):\n",
    "        best_attribs.drop(columns = [locs[worst_attrib_index]])\n",
    "        print(\"column {} was removed \\n\".format(worst_attrib_index))\n",
    "        test_data_test.drop(columns=[locs[worst_attrib_index]])\n",
    "        locs.pop(worst_attrib_index)\n",
    "\n",
    "      # If we have reached the end of our loop:\n",
    "      else:\n",
    "        print(\"no more to remove\")\n",
    "        break\n",
    "      \n",
    "  return best_attribs\n"
   ]
  },
  {
   "cell_type": "code",
   "execution_count": null,
   "metadata": {
    "id": "EhO6hzGehd3w"
   },
   "outputs": [],
   "source": [
    "# Driver Code\n",
    "\n",
    "tr_data_bes = new_train_data.copy()\n",
    "tr_labels_bes = new_train_labels.copy()\n",
    "tst_data_bes = new_test_data.copy()\n",
    "tst_labels_bes = test_labels.copy()\n",
    "\n",
    "tr_data_bes_test = tr_data_bes[range(100)]\n",
    "tst_data_bes_test = tst_data_bes[range(100)]\n",
    "\n",
    "\n",
    "best_attribs_bes = bes(tr_data_bes_test, tr_labels_bes, tst_data_bes_test, tst_labels_bes)"
   ]
  },
  {
   "cell_type": "markdown",
   "metadata": {
    "id": "b7vL3PsRac5P"
   },
   "source": [
    "## Phase 5: PCA (Principal Component Analysis)"
   ]
  },
  {
   "cell_type": "markdown",
   "metadata": {
    "id": "b6GNwSlyakO7"
   },
   "source": [
    "In principal component analysis, we will be looking forward to map the n-dimentional dataset into a dimension lower in value. However, when projecting the data on the lower dataset, we will pay attention to find the one (or the linear combination of the ones) that give the best classification and the least data loss. For example, in the picture below, by projecting the data on an axis like what we did in the right picture, "
   ]
  },
  {
   "cell_type": "code",
   "execution_count": 123,
   "metadata": {
    "id": "apsZyVat4rZA"
   },
   "outputs": [],
   "source": [
    "class PCA:\n",
    "\n",
    "    def __init__(self, max_features):\n",
    "        self.feature_num = max_features\n",
    "        self.faetures = None\n",
    "        self.mean = None\n",
    "\n",
    "    def fit(self, train_data):\n",
    "        # Mean centering\n",
    "        self.mean = np.mean(train_data, axis=0)\n",
    "        train_data = train_data - self.mean\n",
    "        # covariance, function needs samples as columns\n",
    "        cov = np.cov(train_data.T)\n",
    "        # eigenvalues, eigenvectors\n",
    "        evals, evecs = np.linalg.eig(cov)\n",
    "        # -> eigenvector v = [:,i] column vector, transpose for easier calculations\n",
    "        # sort eigenvectors\n",
    "        evecs = evecs.T\n",
    "        idxs = np.argsort(evals)[::-1]\n",
    "        evals = evals[idxs]\n",
    "        evecs = evecs[idxs]\n",
    "        # store first n eigenvectors\n",
    "        self.features = evecs.real[0:self.feature_num]\n",
    "\n",
    "    def transform(self, train_data):\n",
    "        # project data\n",
    "        train_data = train_data - self.mean\n",
    "        return np.dot(train_data, self.features.T)"
   ]
  },
  {
   "cell_type": "code",
   "execution_count": 125,
   "metadata": {
    "colab": {
     "base_uri": "https://localhost:8080/",
     "height": 330
    },
    "id": "H3vGZLLc63mF",
    "outputId": "92695dc3-e122-4549-ad55-1d1fba272c24"
   },
   "outputs": [
    {
     "name": "stdout",
     "output_type": "stream",
     "text": [
      "accuracy is 90.28571428571428 percent. \n",
      "\n"
     ]
    },
    {
     "data": {
      "text/plain": [
       "<sklearn.metrics._plot.confusion_matrix.ConfusionMatrixDisplay at 0x7fccf2861fd0>"
      ]
     },
     "execution_count": 125,
     "metadata": {
      "tags": []
     },
     "output_type": "execute_result"
    },
    {
     "data": {
      "image/png": "[encoded data removed]",
      "text/plain": [
       "<Figure size 432x288 with 2 Axes>"
      ]
     },
     "metadata": {
      "needs_background": "light",
      "tags": []
     },
     "output_type": "display_data"
    }
   ],
   "source": [
    "tr_data_pca = new_train_data.copy()\n",
    "tr_labels_pca = new_train_labels.copy()\n",
    "tst_data_pca = new_test_data.copy()\n",
    "tst_labels_pca = test_labels.copy()\n",
    "\n",
    "tr_data_pca_test = tr_data_pca[range(100)]\n",
    "tr_data_pca_test = tr_data_pca_test.to_numpy()\n",
    "tst_data_pca_test = tst_data_pca[range(100)]\n",
    "tst_data_pca_test = tst_data_pca_test.to_numpy()\n",
    "\n",
    "newpca = PCA(5)\n",
    "newpca.fit(tr_data_pca_test.astype('float32'))\n",
    "trdata = newpca.transform(tr_data_pca_test)\n",
    "\n",
    "\n",
    "tr_data_new = pd.DataFrame(trdata)\n",
    "tst_data_new = pd.DataFrame(newpca.transform(tst_data_pca_test).real)\n",
    "\n",
    "\n",
    "newsvm = SVC(kernel='linear', gamma=0.5)\n",
    "newsvm.fit(tr_data_new, tr_labels_pca)\n",
    "y_pred = newsvm.predict(tst_data_new)\n",
    "accuracy = np.count_nonzero((int(y_pred[0])==np.array(tst_labels_pca[0])).astype('uint8'))/ tst_labels_pca.shape[0] * 100\n",
    "print(\"accuracy is {} percent. \\n\".format(accuracy))\n",
    "y = [int(y_pred[i]) for i in range(350)]\n",
    "\n",
    "disp = ConfusionMatrixDisplay(confusion_matrix(test_labels, y, labels = [0,1], sample_weight=None, normalize = None), display_labels = [0,1])\n",
    "disp.plot()"
   ]
  }
 ],
 "metadata": {
  "colab": {
   "collapsed_sections": [],
   "name": "IS- Final Project.ipynb",
   "provenance": []
  },
  "kernelspec": {
   "display_name": "Python 3",
   "language": "python",
   "name": "python3"
  },
  "language_info": {
   "codemirror_mode": {
    "name": "ipython",
    "version": 3
   },
   "file_extension": ".py",
   "mimetype": "text/x-python",
   "name": "python",
   "nbconvert_exporter": "python",
   "pygments_lexer": "ipython3",
   "version": "3.8.5"
  }
 },
 "nbformat": 4,
 "nbformat_minor": 1
}
