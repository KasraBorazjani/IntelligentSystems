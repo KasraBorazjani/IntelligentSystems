{
 "cells": [
  {
   "cell_type": "markdown",
   "metadata": {
    "id": "h4dFd4VlxDU0"
   },
   "source": [
    "# import requirements\n"
   ]
  },
  {
   "cell_type": "code",
   "execution_count": 132,
   "metadata": {
    "colab": {
     "base_uri": "https://localhost:8080/"
    },
    "id": "Zo59cIYMnTHB",
    "outputId": "fe81e8b9-9dcb-4851-fda8-05d616aa1b4a"
   },
   "outputs": [
    {
     "name": "stdout",
     "output_type": "stream",
     "text": [
      "Drive already mounted at /content/drive; to attempt to forcibly remount, call drive.mount(\"/content/drive\", force_remount=True).\n"
     ]
    }
   ],
   "source": [
    "from google.colab import drive\n",
    "drive.mount('/content/drive')\n",
    "import numpy as np\n",
    "import pandas as pd\n",
    "import numpy as np\n",
    "from sklearn.pipeline import make_pipeline\n",
    "from sklearn.preprocessing import StandardScaler\n",
    "from sklearn.svm import SVC\n",
    "from sklearn.metrics import confusion_matrix,ConfusionMatrixDisplay\n",
    "from numpy import cov\n",
    "from numpy import std\n",
    "from sklearn.feature_selection import  mutual_info_classif"
   ]
  },
  {
   "cell_type": "markdown",
   "metadata": {
    "id": "osnaWzvCxLWD"
   },
   "source": [
    "# preparing data\n"
   ]
  },
  {
   "cell_type": "code",
   "execution_count": 5,
   "metadata": {
    "id": "PW8gN_CMWhnS"
   },
   "outputs": [],
   "source": [
    "def loadData(trainingFile, testingFile):\n",
    "    \n",
    "    def convertDataframe(inputFile):\n",
    "        data = pd.DataFrame(columns=range(100000))\n",
    "        \n",
    "        for i in range(len(inputFile)):\n",
    "            record = np.fromstring(inputFile[i], dtype=int, sep=' ')\n",
    "            record_bool = [0 for j in range(100000)]\n",
    "            for col in record:\n",
    "                record_bool[col-1] = 1\n",
    "            \n",
    "            data.loc[i] = record_bool\n",
    "            \n",
    "        return data\n",
    "    \n",
    "    with open(trainingFile, \"r\") as fr1:\n",
    "        trainFile = fr1.readlines()\n",
    "    \n",
    "    #Split each line in the two files into label and data  \n",
    "    train_data_list = []\n",
    "    train_labels_list = []\n",
    "    \n",
    "    for inputData in trainFile:\n",
    "        train_labels_list.append(inputData[0])\n",
    "        \n",
    "        #Remove the activity label (0/1) and new line character from each record\n",
    "        inputData = inputData.replace(\"0\\t\", \"\")\n",
    "        inputData = inputData.replace(\"1\\t\", \"\")\n",
    "        inputData = inputData.replace(\"\\n\", \"\")\n",
    "        train_data_list.append(inputData)\n",
    "    \n",
    "    train_labels = np.asarray(train_labels_list)\n",
    "    train_data = convertDataframe(train_data_list)\n",
    "        \n",
    "    with open(testingFile, \"r\") as fr2:\n",
    "        testFile = fr2.readlines()\n",
    "    \n",
    "    test_data = convertDataframe(testFile)\n",
    "            \n",
    "    return train_data, test_data, train_labels"
   ]
  },
  {
   "cell_type": "markdown",
   "metadata": {
    "id": "Yrc-33C-xRGI"
   },
   "source": [
    "# reading data"
   ]
  },
  {
   "cell_type": "code",
   "execution_count": 6,
   "metadata": {
    "id": "c8c80KCEYgvS"
   },
   "outputs": [],
   "source": [
    "train_data, test_data, train_labels = loadData('/content/drive/My Drive/ISC/project/train.dat.txt', '/content/drive/My Drive/ISC/project/test.dat.txt')"
   ]
  },
  {
   "cell_type": "code",
   "execution_count": 7,
   "metadata": {
    "id": "jihKp_-1d3C9"
   },
   "outputs": [],
   "source": [
    "test_labels = pd.read_csv('/content/drive/My Drive/ISC/project/test_labels.txt', header = None)"
   ]
  },
  {
   "cell_type": "markdown",
   "metadata": {
    "id": "uyj0L49rxU0Q"
   },
   "source": [
    "# SVM"
   ]
  },
  {
   "cell_type": "code",
   "execution_count": 8,
   "metadata": {
    "id": "j3zDF1GbxycY"
   },
   "outputs": [],
   "source": [
    "def SVM(train_data,train_labels,test_data,test_labels):\n",
    "  newsvm = SVC(kernel='linear', C=0.5)\n",
    "  newsvm.fit(train_data, train_labels)\n",
    "  y_predicted = newsvm.predict(test_data)\n",
    "  y = np.zeros(test_labels.shape[0])\n",
    "  for i in range (test_labels.shape[0]):\n",
    "    y[i] = int(y_predicted[i])\n",
    "  disp = ConfusionMatrixDisplay(confusion_matrix(test_labels,y, labels=[0,1], sample_weight=None, normalize=None),display_labels=[0,1])\n",
    "  disp.plot()\n",
    "  acc = np.count_nonzero((y==test_labels[0]).astype('uint8')) / test_labels.shape[0]\n",
    "  print('acuuracy = ' ,acc)\n"
   ]
  },
  {
   "cell_type": "markdown",
   "metadata": {
    "id": "-OGVekjjzO5P"
   },
   "source": [
    "# main data"
   ]
  },
  {
   "cell_type": "code",
   "execution_count": 82,
   "metadata": {
    "colab": {
     "base_uri": "https://localhost:8080/",
     "height": 296
    },
    "id": "vU2qeqKSyqzb",
    "outputId": "36cb9fd6-9b9c-4b10-d710-2d57f3ad70f7"
   },
   "outputs": [
    {
     "name": "stdout",
     "output_type": "stream",
     "text": [
      "acuuracy =  0.9314285714285714\n"
     ]
    },
    {
     "data": {
      "image/png": "[encoded data removed]",
      "text/plain": [
       "<Figure size 432x288 with 2 Axes>"
      ]
     },
     "metadata": {
      "needs_background": "light",
      "tags": []
     },
     "output_type": "display_data"
    }
   ],
   "source": [
    "SVM(train_data,train_labels,test_data,test_labels)"
   ]
  },
  {
   "cell_type": "markdown",
   "metadata": {
    "id": "DjaeZ7VYz_uv"
   },
   "source": [
    "# Filter $\\rightarrow$ Basic Filter $\\rightarrow$ Constant Features"
   ]
  },
  {
   "cell_type": "markdown",
   "metadata": {
    "id": "NOwoWgLJH7DW"
   },
   "source": [
    "first we calculate value of variance for each feature."
   ]
  },
  {
   "cell_type": "code",
   "execution_count": 13,
   "metadata": {
    "id": "alkG_lTMCqd_"
   },
   "outputs": [],
   "source": [
    "var = np.var(np.array(train_data),axis=0)"
   ]
  },
  {
   "cell_type": "markdown",
   "metadata": {
    "id": "9TxHgQ88IJoV"
   },
   "source": [
    "then we find features with 0  variance value."
   ]
  },
  {
   "cell_type": "code",
   "execution_count": 123,
   "metadata": {
    "id": "HiqrK0qq64-h"
   },
   "outputs": [],
   "source": [
    "delete_arg =[]\n",
    "for i in range (var.shape[0]):\n",
    "  if (var[i]== 0):\n",
    "    delete_arg.append(i)"
   ]
  },
  {
   "cell_type": "markdown",
   "metadata": {
    "id": "GoOikmFmIV9m"
   },
   "source": [
    "then we remove features with 0 variance value from train and test data."
   ]
  },
  {
   "cell_type": "code",
   "execution_count": 124,
   "metadata": {
    "colab": {
     "base_uri": "https://localhost:8080/"
    },
    "id": "6fVUDKMF6IRB",
    "outputId": "d4d09811-d26a-4928-e451-fb92a9fb0c5d"
   },
   "outputs": [
    {
     "name": "stdout",
     "output_type": "stream",
     "text": [
      "features reduced to 88119\n"
     ]
    }
   ],
   "source": [
    "train_con = train_data\n",
    "test_con = test_data\n",
    "train_con = train_con.drop(delete_arg,1)\n",
    "test_con = test_con.drop(delete_arg,1)\n",
    "print('features reduced to',train_con.shape[1] )"
   ]
  },
  {
   "cell_type": "markdown",
   "metadata": {
    "id": "eSx5R8UeIjF8"
   },
   "source": [
    "at last,we predict test data labels by SVM function."
   ]
  },
  {
   "cell_type": "code",
   "execution_count": 25,
   "metadata": {
    "colab": {
     "base_uri": "https://localhost:8080/",
     "height": 296
    },
    "id": "6P3eHqK2Gw0s",
    "outputId": "034985bc-2882-482f-f299-64b5ff3b3ddc"
   },
   "outputs": [
    {
     "name": "stdout",
     "output_type": "stream",
     "text": [
      "acuuracy =  0.9314285714285714\n"
     ]
    },
    {
     "data": {
      "image/png": "[encoded data removed]",
      "text/plain": [
       "<Figure size 432x288 with 2 Axes>"
      ]
     },
     "metadata": {
      "needs_background": "light",
      "tags": []
     },
     "output_type": "display_data"
    }
   ],
   "source": [
    "SVM(train_con,train_labels,test_con,test_labels)"
   ]
  },
  {
   "cell_type": "markdown",
   "metadata": {
    "id": "LU04_0EkI7Lu"
   },
   "source": [
    "# Filter $\\rightarrow$ Correlation Filter $\\rightarrow$ Pearson Correlation Coefficient"
   ]
  },
  {
   "cell_type": "markdown",
   "metadata": {
    "id": "vQ-IQkL1atAY"
   },
   "source": [
    "\n",
    "The Pearson correlation coefficient is probably the most widely used measure for linear relationships between two normal distributed variables and thus often just called \"correlation coefficient\". Usually, the Pearson coefficient is obtained via a Least-Squares fit and a value of 1 represents a perfect positive relation-ship, -1 a perfect negative relationship, and 0 indicates the absence of a relationship between variables.\n",
    "\n",
    "$\\rho = \\frac{\\text{cov}(X,Y)}{\\sigma_x \\sigma_y}$"
   ]
  },
  {
   "cell_type": "code",
   "execution_count": 105,
   "metadata": {
    "id": "Iwpt5dUzapFx"
   },
   "outputs": [],
   "source": [
    "def pearson(X,y):\n",
    "  corr=[]\n",
    "  for i in range(X.shape[1]):\n",
    "    corr_each = np.cov(X[i].astype(float),y.astype(float))[0][1]/((np.std(X[i].astype(float))+0.00001)*(np.std(y.astype(float)+0.00001)))\n",
    "    corr.append(corr_each)\n",
    "  return corr "
   ]
  },
  {
   "cell_type": "code",
   "execution_count": 94,
   "metadata": {
    "id": "Qng7HMs3dvAZ"
   },
   "outputs": [],
   "source": [
    "y = np.zeros(800)\n",
    "for i in range (800):\n",
    "    y[i] = int(train_labels[i])"
   ]
  },
  {
   "cell_type": "code",
   "execution_count": 106,
   "metadata": {
    "id": "hx1pTlCLcKlq"
   },
   "outputs": [],
   "source": [
    "corr = pearson(train_data,y)"
   ]
  },
  {
   "cell_type": "markdown",
   "metadata": {
    "id": "CYvtkDc1rS61"
   },
   "source": [
    "in this part,we choose a proper thershold for removing features that  are less correlated with labels."
   ]
  },
  {
   "cell_type": "code",
   "execution_count": 129,
   "metadata": {
    "id": "EFleC8qHjF3M"
   },
   "outputs": [],
   "source": [
    "thershold = 0.01\n",
    "delete_arg =[]\n",
    "for i in range (len(corr)):\n",
    "  if (abs(corr[i]) <= thershold):\n",
    "    delete_arg.append(i)"
   ]
  },
  {
   "cell_type": "code",
   "execution_count": 131,
   "metadata": {
    "colab": {
     "base_uri": "https://localhost:8080/"
    },
    "id": "18kNg5I-l3Pi",
    "outputId": "40db1ccd-3e92-4cc5-84ab-308e18989b0f"
   },
   "outputs": [
    {
     "name": "stdout",
     "output_type": "stream",
     "text": [
      "features reduced to 79282\n"
     ]
    }
   ],
   "source": [
    "train_pear = train_data\n",
    "test_pear = test_data\n",
    "train_pear = train_pear.drop(delete_arg,1)\n",
    "test_pear = test_pear.drop(delete_arg,1)\n",
    "print('features reduced to',train_pear.shape[1] )"
   ]
  },
  {
   "cell_type": "code",
   "execution_count": 118,
   "metadata": {
    "colab": {
     "base_uri": "https://localhost:8080/",
     "height": 296
    },
    "id": "4N9FJ4BGmY57",
    "outputId": "41e93a34-47e2-43a6-beee-227a03aefd1f"
   },
   "outputs": [
    {
     "name": "stdout",
     "output_type": "stream",
     "text": [
      "acuuracy =  0.9314285714285714\n"
     ]
    },
    {
     "data": {
      "image/png": "[encoded data removed]",
      "text/plain": [
       "<Figure size 432x288 with 2 Axes>"
      ]
     },
     "metadata": {
      "needs_background": "light",
      "tags": []
     },
     "output_type": "display_data"
    }
   ],
   "source": [
    "SVM(train_pear,train_labels,test_pear,test_labels)"
   ]
  },
  {
   "cell_type": "markdown",
   "metadata": {
    "id": "eLaXB2cAr3a0"
   },
   "source": [
    "# Filter $\\rightarrow$ Statistical & Ranking Filter $\\rightarrow$ Mutual Information"
   ]
  },
  {
   "cell_type": "markdown",
   "metadata": {
    "id": "vYXBDbxGYVGv"
   },
   "source": [
    "Mutual information is calculated between two variables and measures the reduction in uncertainty for one variable given a known value of the other variable.\n",
    "\n",
    "A quantity called mutual information measures the amount of information one can obtain from one random variable given another.\n",
    "\n",
    "The mutual information between two random variables X and Y can be stated formally as follows:\n",
    "\n",
    "I(X ; Y) = H(X) – H(X | Y)\n",
    "Where I(X ; Y) is the mutual information for X and Y, H(X) is the entropy for X and H(X | Y) is the conditional entropy for X given Y. The result has the units of bits.\n",
    "\n",
    "Mutual information is a measure of dependence or “mutual dependence” between two random variables. As such, the measure is symmetrical, meaning that I(X ; Y) = I(Y ; X).\n",
    "\n",
    "The MI between two descrete random variables $U=(u_{1},u_{2},...,u_{k})$ and $V=(v_{1},v_{2},...,v_{k})$ is defined as:\n",
    "\n",
    "$I(U,V)=\\sum_{u}\\sum_{v}p(u,v)log\\frac{p(u,v)}{p(u)p(v)}$\n",
    "\n",
    "where $p(u,v)$ is a joint density funcyion and $p(u)$ and $p(v)$ are the marginal density functions."
   ]
  },
  {
   "cell_type": "code",
   "execution_count": 133,
   "metadata": {
    "colab": {
     "base_uri": "https://localhost:8080/"
    },
    "id": "gygOXae0soUE",
    "outputId": "aea13c84-9bb5-4798-f178-c9b3472258a3"
   },
   "outputs": [
    {
     "data": {
      "text/plain": [
       "100000"
      ]
     },
     "execution_count": 133,
     "metadata": {
      "tags": []
     },
     "output_type": "execute_result"
    }
   ],
   "source": [
    "mi = mutual_info_classif(train_data, y) \n",
    "len(mi)"
   ]
  },
  {
   "cell_type": "code",
   "execution_count": 137,
   "metadata": {
    "id": "ZBUMxMUT414n"
   },
   "outputs": [],
   "source": [
    "mi = pd.Series(mi)\n",
    "mi.index = train_data.columns"
   ]
  },
  {
   "cell_type": "markdown",
   "metadata": {
    "id": "wHQdW2Qu5Mt4"
   },
   "source": [
    "sorting values in the descending order."
   ]
  },
  {
   "cell_type": "code",
   "execution_count": 139,
   "metadata": {
    "id": "ZKCsnH8c5ZbZ"
   },
   "outputs": [],
   "source": [
    "mi.sort_values(ascending=False, inplace = True)"
   ]
  },
  {
   "cell_type": "markdown",
   "metadata": {
    "id": "oE1kmYn45poA"
   },
   "source": [
    "we choose top 100 features."
   ]
  },
  {
   "cell_type": "code",
   "execution_count": 155,
   "metadata": {
    "id": "rDe-caxc5xSf"
   },
   "outputs": [],
   "source": [
    "drop_index = []\n",
    "for i in range(100,100000):\n",
    "  drop_index.append(mi.index[i])"
   ]
  },
  {
   "cell_type": "code",
   "execution_count": 156,
   "metadata": {
    "colab": {
     "base_uri": "https://localhost:8080/"
    },
    "id": "XCW8HW4Q6JnH",
    "outputId": "98ac8b79-9a99-48dc-94fe-7e1d71ee1b59"
   },
   "outputs": [
    {
     "name": "stdout",
     "output_type": "stream",
     "text": [
      "features reduced to 100\n"
     ]
    }
   ],
   "source": [
    "train_MI = train_data\n",
    "test_MI = test_data\n",
    "train_MI = train_MI.drop(drop_index,1)\n",
    "test_MI = test_MI.drop(drop_index,1)\n",
    "print('features reduced to',train_MI.shape[1] )"
   ]
  },
  {
   "cell_type": "code",
   "execution_count": 157,
   "metadata": {
    "colab": {
     "base_uri": "https://localhost:8080/",
     "height": 296
    },
    "id": "vNm9ZAgN7Fg_",
    "outputId": "0daaaed3-9887-49ac-a8bb-b160481a3113"
   },
   "outputs": [
    {
     "name": "stdout",
     "output_type": "stream",
     "text": [
      "acuuracy =  0.9371428571428572\n"
     ]
    },
    {
     "data": {
      "image/png": "[encoded data removed]",
      "text/plain": [
       "<Figure size 432x288 with 2 Axes>"
      ]
     },
     "metadata": {
      "needs_background": "light",
      "tags": []
     },
     "output_type": "display_data"
    }
   ],
   "source": [
    "SVM(train_MI,train_labels,test_MI,test_labels)"
   ]
  }
 ],
 "metadata": {
  "colab": {
   "collapsed_sections": [
    "h4dFd4VlxDU0",
    "osnaWzvCxLWD",
    "Yrc-33C-xRGI",
    "uyj0L49rxU0Q",
    "-OGVekjjzO5P",
    "DjaeZ7VYz_uv",
    "LU04_0EkI7Lu",
    "eLaXB2cAr3a0"
   ],
   "name": "project.ipynb",
   "provenance": [],
   "toc_visible": true
  },
  "kernelspec": {
   "display_name": "Python 3",
   "language": "python",
   "name": "python3"
  },
  "language_info": {
   "codemirror_mode": {
    "name": "ipython",
    "version": 3
   },
   "file_extension": ".py",
   "mimetype": "text/x-python",
   "name": "python",
   "nbconvert_exporter": "python",
   "pygments_lexer": "ipython3",
   "version": "3.8.5"
  }
 },
 "nbformat": 4,
 "nbformat_minor": 1
}
